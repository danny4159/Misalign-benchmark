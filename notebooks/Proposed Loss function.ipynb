{
 "cells": [
  {
   "attachments": {},
   "cell_type": "markdown",
   "id": "dd2aec7a-ec7a-4585-8cb1-e2efcd0b03b0",
   "metadata": {},
   "source": [
    "# Summary"
   ]
  },
  {
   "attachments": {},
   "cell_type": "markdown",
   "id": "4339779e-6cf4-432c-bd81-cf246d00d019",
   "metadata": {},
   "source": [
    "```Objective```\n",
    "\n",
    "todo"
   ]
  },
  {
   "attachments": {},
   "cell_type": "markdown",
   "id": "8f4dfe32-a227-4923-ab64-63854419ca95",
   "metadata": {},
   "source": [
    "```Methods```\n",
    "\n",
    "todo"
   ]
  },
  {
   "attachments": {},
   "cell_type": "markdown",
   "id": "5c19ae45-56fd-4446-a49f-29fcc05bc885",
   "metadata": {},
   "source": [
    "```Results```\n",
    "\n",
    "todo"
   ]
  },
  {
   "attachments": {},
   "cell_type": "markdown",
   "id": "10534042-e2b9-4547-a8e0-d7ad2d85f169",
   "metadata": {},
   "source": []
  },
  {
   "attachments": {},
   "cell_type": "markdown",
   "id": "45dfab17-bead-4526-8257-83b2acbe13c0",
   "metadata": {},
   "source": [
    "# Config"
   ]
  },
  {
   "cell_type": "code",
   "execution_count": null,
   "id": "f9b27ade-f6fb-45b5-be5e-147297af867e",
   "metadata": {},
   "outputs": [],
   "source": []
  },
  {
   "attachments": {},
   "cell_type": "markdown",
   "id": "9fac5eaa-e0cd-4282-b9ad-c4e126363902",
   "metadata": {},
   "source": [
    "# Libs"
   ]
  },
  {
   "cell_type": "code",
   "execution_count": 1,
   "id": "42d698c2-8c1b-4f83-8f52-9e94d8435bed",
   "metadata": {},
   "outputs": [],
   "source": [
    "%load_ext autoreload\n",
    "%autoreload 2\n",
    "from misalign.models.components.autoencoder_kl import Encoder, AutoencoderKL\n",
    "import torch\n",
    "from misalign.models.components.proposed import VarAutoencoder_Loss\n",
    "from misalign.models.components.perceptual import *\n"
   ]
  },
  {
   "attachments": {},
   "cell_type": "markdown",
   "id": "cb61c119-06df-4bc8-8e29-62185d85d927",
   "metadata": {},
   "source": [
    "# Analysis"
   ]
  },
  {
   "cell_type": "code",
   "execution_count": 2,
   "id": "03c4ffa1-60d0-45c2-b65a-25adaf0161e1",
   "metadata": {},
   "outputs": [
    {
     "name": "stdout",
     "output_type": "stream",
     "text": [
      "Using cuda\n"
     ]
    }
   ],
   "source": [
    "device = torch.device(\"cuda\" if torch.cuda.is_available() else \"cpu\")\n",
    "print(f\"Using {device}\")\n",
    "\n",
    "num_res_blocks = [2,2]\n",
    "num_channels = [32, 64]\n",
    "encoder = Encoder(\n",
    "    in_channels=1,\n",
    "    num_channels=[32, 64],\n",
    "    out_channels=64,\n",
    "    num_res_blocks=[2,2]\n",
    ")  # You need to define the Encoder class somewhere\n",
    "# Load the state dict\n",
    "encoder.load_state_dict(torch.load(\"/home/kanghyun/misalign-benchmark/weights/encoder_pretrain_0.01.pth\"))\n",
    "encoder = encoder.to(device)"
   ]
  },
  {
   "cell_type": "code",
   "execution_count": 6,
   "id": "d14dbb00",
   "metadata": {},
   "outputs": [
    {
     "name": "stdout",
     "output_type": "stream",
     "text": [
      "torch.Size([1, 32, 128, 128]) torch.Size([1, 64, 64, 64])\n"
     ]
    }
   ],
   "source": [
    "im = torch.ones(1,1,256,256).to(device)\n",
    "\n",
    "with torch.no_grad():\n",
    "    _, out = encoder(im)\n",
    "print(out[0].shape, out[1].shape)"
   ]
  },
  {
   "cell_type": "code",
   "execution_count": 19,
   "id": "f9e37abe",
   "metadata": {},
   "outputs": [],
   "source": [
    "class localPerceptualLoss(RadImageNetPerceptualSimilarity):\n",
    "    def forward(self, input: torch.Tensor, target: torch.Tensor) -> torch.Tensor:\n",
    "        \"\"\"\n",
    "        We expect that the input is normalised between [0, 1]. Given the preprocessing performed during the training at\n",
    "        https://github.com/BMEII-AI/RadImageNet, we make sure that the input and target have 3 channels, reorder it from\n",
    "         'RGB' to 'BGR', and then remove the mean components of each input data channel. The outputs are normalised\n",
    "        across the channels, and we obtain the mean from the spatial dimensions (similar approach to the lpips package).\n",
    "        \"\"\"\n",
    "        # If input has just 1 channel, repeat channel to have 3 channels\n",
    "        if input.shape[1] == 1 and target.shape[1] == 1:\n",
    "            input = input.repeat(1, 3, 1, 1)\n",
    "            target = target.repeat(1, 3, 1, 1)\n",
    "\n",
    "        # Change order from 'RGB' to 'BGR'\n",
    "        input = input[:, [2, 1, 0], ...]\n",
    "        target = target[:, [2, 1, 0], ...]\n",
    "\n",
    "        # Subtract mean used during training\n",
    "        input = subtract_mean(input)\n",
    "        target = subtract_mean(target)\n",
    "\n",
    "        # Get model outputs\n",
    "        outs_input = self.model.forward(input)\n",
    "        outs_target = self.model.forward(target)\n",
    "\n",
    "        # Normalise through the channels\n",
    "        feats_input = normalize_tensor(outs_input)\n",
    "        feats_target = normalize_tensor(outs_target)\n",
    "\n",
    "        results = (feats_input - feats_target) ** 2\n",
    "\n",
    "        return results"
   ]
  },
  {
   "cell_type": "code",
   "execution_count": 20,
   "id": "538912dd",
   "metadata": {},
   "outputs": [],
   "source": [
    "perceptual_loss = localPerceptualLoss().to(device)"
   ]
  },
  {
   "cell_type": "code",
   "execution_count": 21,
   "id": "05635e32",
   "metadata": {},
   "outputs": [
    {
     "name": "stdout",
     "output_type": "stream",
     "text": [
      "torch.Size([1, 2048, 8, 8])\n"
     ]
    }
   ],
   "source": [
    "loss = perceptual_loss(im, im)\n",
    "print(loss.shape)"
   ]
  },
  {
   "cell_type": "code",
   "execution_count": 10,
   "id": "5e437b27",
   "metadata": {},
   "outputs": [
    {
     "data": {
      "text/plain": [
       "tensor(0., device='cuda:0')"
      ]
     },
     "execution_count": 10,
     "metadata": {},
     "output_type": "execute_result"
    }
   ],
   "source": [
    "loss"
   ]
  },
  {
   "cell_type": "code",
   "execution_count": 12,
   "id": "2c5654ad",
   "metadata": {},
   "outputs": [],
   "source": [
    "loss_function = VarAutoencoder_Loss(crop_quarter=False).cuda()"
   ]
  },
  {
   "cell_type": "code",
   "execution_count": 13,
   "id": "9e0e7414",
   "metadata": {},
   "outputs": [],
   "source": [
    "loss = loss_function(im, im)"
   ]
  },
  {
   "cell_type": "code",
   "execution_count": 15,
   "id": "0ee89559",
   "metadata": {},
   "outputs": [
    {
     "name": "stdout",
     "output_type": "stream",
     "text": [
      "torch.Size([1, 4096])\n"
     ]
    }
   ],
   "source": [
    "i = torch.zeros((1,64*64), device=im.device, requires_grad=True)\n",
    "print(i.shape)"
   ]
  },
  {
   "cell_type": "code",
   "execution_count": 9,
   "id": "e4fa2367",
   "metadata": {},
   "outputs": [
    {
     "data": {
      "text/plain": [
       "tensor(0.2008, device='cuda:0')"
      ]
     },
     "execution_count": 9,
     "metadata": {},
     "output_type": "execute_result"
    }
   ],
   "source": [
    "loss[0,0]"
   ]
  },
  {
   "cell_type": "code",
   "execution_count": 10,
   "id": "83a2f0b9",
   "metadata": {},
   "outputs": [
    {
     "data": {
      "text/plain": [
       "tensor(0.2008, device='cuda:0')"
      ]
     },
     "execution_count": 10,
     "metadata": {},
     "output_type": "execute_result"
    }
   ],
   "source": [
    "loss[1,0]"
   ]
  },
  {
   "cell_type": "code",
   "execution_count": 11,
   "id": "8bb75297",
   "metadata": {},
   "outputs": [],
   "source": [
    "# unfold\n",
    "\n",
    "feature_im = torch.ones((1,32,64,64))\n",
    "N, C, H, W = feature_im.shape\n",
    "patch_size = 8"
   ]
  },
  {
   "cell_type": "code",
   "execution_count": 12,
   "id": "fa7740fb",
   "metadata": {},
   "outputs": [
    {
     "name": "stdout",
     "output_type": "stream",
     "text": [
      "torch.Size([1, 32, 8, 8, 3249])\n"
     ]
    }
   ],
   "source": [
    "patch = torch.nn.functional.unfold(feature_im, kernel_size=patch_size, stride=1)\n",
    "num_patches = patch.shape[-1]\n",
    "patch = patch.view(N, C, patch_size, patch_size, num_patches)\n",
    "\n",
    "print(patch.shape)"
   ]
  },
  {
   "cell_type": "code",
   "execution_count": 13,
   "id": "41828384",
   "metadata": {},
   "outputs": [
    {
     "data": {
      "text/plain": [
       "57.0"
      ]
     },
     "execution_count": 13,
     "metadata": {},
     "output_type": "execute_result"
    }
   ],
   "source": [
    "import numpy as np\n",
    "np.sqrt(3249)"
   ]
  },
  {
   "cell_type": "code",
   "execution_count": 7,
   "id": "16f23073",
   "metadata": {},
   "outputs": [
    {
     "data": {
      "text/plain": [
       "32.0"
      ]
     },
     "execution_count": 7,
     "metadata": {},
     "output_type": "execute_result"
    }
   ],
   "source": []
  }
 ],
 "metadata": {
  "kernelspec": {
   "display_name": "Python 3",
   "language": "python",
   "name": "python3"
  },
  "language_info": {
   "codemirror_mode": {
    "name": "ipython",
    "version": 3
   },
   "file_extension": ".py",
   "mimetype": "text/x-python",
   "name": "python",
   "nbconvert_exporter": "python",
   "pygments_lexer": "ipython3",
   "version": "3.9.16"
  }
 },
 "nbformat": 4,
 "nbformat_minor": 5
}
