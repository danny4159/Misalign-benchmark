{
 "cells": [
  {
   "cell_type": "code",
   "execution_count": 1,
   "id": "d7cafb74",
   "metadata": {},
   "outputs": [
    {
     "ename": "ModuleNotFoundError",
     "evalue": "No module named 'matplotlib'",
     "output_type": "error",
     "traceback": [
      "\u001b[0;31m---------------------------------------------------------------------------\u001b[0m",
      "\u001b[0;31mModuleNotFoundError\u001b[0m                       Traceback (most recent call last)",
      "Cell \u001b[0;32mIn[1], line 3\u001b[0m\n\u001b[1;32m      1\u001b[0m \u001b[38;5;28;01mimport\u001b[39;00m \u001b[38;5;21;01mnumpy\u001b[39;00m \u001b[38;5;28;01mas\u001b[39;00m \u001b[38;5;21;01mnp\u001b[39;00m\n\u001b[1;32m      2\u001b[0m \u001b[38;5;28;01mimport\u001b[39;00m \u001b[38;5;21;01mnibabel\u001b[39;00m \u001b[38;5;28;01mas\u001b[39;00m \u001b[38;5;21;01mnib\u001b[39;00m\n\u001b[0;32m----> 3\u001b[0m \u001b[38;5;28;01mimport\u001b[39;00m \u001b[38;5;21;01mmatplotlib\u001b[39;00m\u001b[38;5;21;01m.\u001b[39;00m\u001b[38;5;21;01mpyplot\u001b[39;00m \u001b[38;5;28;01mas\u001b[39;00m \u001b[38;5;21;01mplt\u001b[39;00m\n\u001b[1;32m      4\u001b[0m \u001b[38;5;28;01mfrom\u001b[39;00m \u001b[38;5;21;01mtorchmetrics\u001b[39;00m \u001b[38;5;28;01mimport\u001b[39;00m PeakSignalNoiseRatio, StructuralSimilarityIndexMeasure\n\u001b[1;32m      5\u001b[0m \u001b[38;5;28;01mimport\u001b[39;00m \u001b[38;5;21;01mtorch\u001b[39;00m\n",
      "\u001b[0;31mModuleNotFoundError\u001b[0m: No module named 'matplotlib'"
     ]
    }
   ],
   "source": [
    "import numpy as np\n",
    "import nibabel as nib\n",
    "import matplotlib.pyplot as plt\n",
    "from torchmetrics import PeakSignalNoiseRatio, StructuralSimilarityIndexMeasure\n",
    "import torch\n",
    "\n",
    "# 파일 불러오기\n",
    "path = \"/SSD3_8TB/Daniel/11_misalign_benchmark2/misalign-benchmark/logs/재훈/Model_pgan_Data_IXI_Misalign_X0_Y5_R2.5_M0_D0/Model_pgan_Data_IXI_Misalign_X0_Y5_R2.5_M0_D0/['train']/runs/2023-07-13_16-03-07/results\"\n",
    "file1 = nib.load(f\"{path}/preds_a_1.nii.gz\").get_fdata()\n",
    "file2 = nib.load(f\"{path}/a_1.nii.gz\").get_fdata()\n",
    "\n",
    "\n",
    "# 47번째 slice를 plot\n",
    "plt.figure(figsize=(10, 5))\n",
    "plt.subplot(1, 2, 1)\n",
    "plt.imshow(file1[..., 47], cmap='gray')\n",
    "plt.title('preds_a_1')\n",
    "\n",
    "plt.subplot(1, 2, 2)\n",
    "plt.imshow(file2[..., 47], cmap='gray')\n",
    "plt.title('a_1')\n",
    "\n",
    "plt.show()\n",
    "\n",
    "# SSIM 및 PSNR 계산\n",
    "ssim_module = StructuralSimilarityIndexMeasure()\n",
    "psnr_module = PeakSignalNoiseRatio()\n",
    "\n",
    "slice_file1 = torch.tensor(file1[..., 47])\n",
    "slice_file2 = torch.tensor(file2[..., 47])\n",
    "\n",
    "ssim_value = ssim_module(slice_file1.unsqueeze(0).unsqueeze(0), slice_file2.unsqueeze(0).unsqueeze(0))\n",
    "psnr_value = psnr_module(slice_file1.unsqueeze(0).unsqueeze(0), slice_file2.unsqueeze(0).unsqueeze(0))\n",
    "\n",
    "print(f\"SSIM: {ssim_value.item()}\")\n",
    "print(f\"PSNR: {psnr_value.item()}\")\n",
    "\n",
    "# # 47번째 slice의 difference map 구하기\n",
    "# diff_map = file1[..., 47] - file2[..., 47]\n",
    "\n",
    "# # difference map plot\n",
    "# plt.figure(figsize=(6, 6))\n",
    "# plt.imshow(diff_map, cmap='gray')\n",
    "# plt.title('Difference Map')\n",
    "# plt.colorbar()\n",
    "# plt.savefig(f\"{path}\\\\difference_map.png\")\n",
    "# plt.show()"
   ]
  }
 ],
 "metadata": {
  "kernelspec": {
   "display_name": "danny_pGAN",
   "language": "python",
   "name": "danny_pgan"
  },
  "language_info": {
   "codemirror_mode": {
    "name": "ipython",
    "version": 3
   },
   "file_extension": ".py",
   "mimetype": "text/x-python",
   "name": "python",
   "nbconvert_exporter": "python",
   "pygments_lexer": "ipython3",
   "version": "3.8.8"
  }
 },
 "nbformat": 4,
 "nbformat_minor": 5
}
